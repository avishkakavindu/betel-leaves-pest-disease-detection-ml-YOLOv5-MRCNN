{
 "cells": [
  {
   "cell_type": "markdown",
   "metadata": {
    "collapsed": true,
    "pycharm": {
     "name": "#%% md\n"
    }
   },
   "source": [
    "# Betel Vine Pest Detection"
   ]
  },
  {
   "cell_type": "markdown",
   "source": [
    "### !!! Run only once!!!"
   ],
   "metadata": {
    "collapsed": false,
    "pycharm": {
     "name": "#%% md\n"
    }
   }
  },
  {
   "cell_type": "code",
   "execution_count": 1,
   "outputs": [
    {
     "name": "stderr",
     "output_type": "stream",
     "text": [
      "fatal: destination path 'yolov5' already exists and is not an empty directory.\n",
      "fatal: Could not parse object 'fbe67e465375231474a2ad80a4389efc77ecff99'.\n"
     ]
    }
   ],
   "source": [
    "# clone YOLOv5 repository\n",
    "!git clone https://github.com/ultralytics/yolov5\n",
    "!git reset --hard fbe67e465375231474a2ad80a4389efc77ecff99"
   ],
   "metadata": {
    "collapsed": false,
    "pycharm": {
     "name": "#%%\n"
    }
   }
  },
  {
   "cell_type": "code",
   "execution_count": 2,
   "outputs": [
    {
     "name": "stdout",
     "output_type": "stream",
     "text": [
      "C:\\Users\\ACER\\Documents\\My mini Projects\\ML\\Betel Leaves\\pest_detection\\yolov5\n"
     ]
    }
   ],
   "source": [
    "# move to yolov5 dir\n",
    "%cd yolov5"
   ],
   "metadata": {
    "collapsed": false,
    "pycharm": {
     "name": "#%%\n"
    }
   }
  },
  {
   "cell_type": "code",
   "execution_count": 3,
   "outputs": [
    {
     "name": "stdout",
     "output_type": "stream",
     "text": [
      "^C\n"
     ]
    }
   ],
   "source": [
    "# install dependencies as necessary\n",
    "!pip install -qr requirements.txt"
   ],
   "metadata": {
    "collapsed": false,
    "pycharm": {
     "name": "#%%\n"
    }
   }
  },
  {
   "cell_type": "code",
   "execution_count": 4,
   "outputs": [
    {
     "name": "stdout",
     "output_type": "stream",
     "text": [
      "Requirement already satisfied: torchvision in c:\\users\\acer\\documents\\my mini projects\\ml\\betel leaves\\venv\\lib\\site-packages (0.14.1)\n",
      "Requirement already satisfied: typing-extensions in c:\\users\\acer\\documents\\my mini projects\\ml\\betel leaves\\venv\\lib\\site-packages (from torchvision) (4.5.0)\n",
      "Requirement already satisfied: numpy in c:\\users\\acer\\documents\\my mini projects\\ml\\betel leaves\\venv\\lib\\site-packages (from torchvision) (1.21.6)\n",
      "Requirement already satisfied: requests in c:\\users\\acer\\documents\\my mini projects\\ml\\betel leaves\\venv\\lib\\site-packages (from torchvision) (2.29.0)\n",
      "Requirement already satisfied: torch==1.13.1 in c:\\users\\acer\\documents\\my mini projects\\ml\\betel leaves\\venv\\lib\\site-packages (from torchvision) (1.13.1)\n",
      "Requirement already satisfied: pillow!=8.3.*,>=5.3.0 in c:\\users\\acer\\documents\\my mini projects\\ml\\betel leaves\\venv\\lib\\site-packages (from torchvision) (9.5.0)\n",
      "Requirement already satisfied: charset-normalizer<4,>=2 in c:\\users\\acer\\documents\\my mini projects\\ml\\betel leaves\\venv\\lib\\site-packages (from requests->torchvision) (3.1.0)\n",
      "Requirement already satisfied: idna<4,>=2.5 in c:\\users\\acer\\documents\\my mini projects\\ml\\betel leaves\\venv\\lib\\site-packages (from requests->torchvision) (3.4)\n",
      "Requirement already satisfied: urllib3<1.27,>=1.21.1 in c:\\users\\acer\\documents\\my mini projects\\ml\\betel leaves\\venv\\lib\\site-packages (from requests->torchvision) (1.26.15)\n",
      "Requirement already satisfied: certifi>=2017.4.17 in c:\\users\\acer\\documents\\my mini projects\\ml\\betel leaves\\venv\\lib\\site-packages (from requests->torchvision) (2022.12.7)\n",
      "^C\n",
      "Requirement already satisfied: torch in c:\\users\\acer\\documents\\my mini projects\\ml\\betel leaves\\venv\\lib\\site-packages (1.13.1)\n",
      "Requirement already satisfied: torchvision in c:\\users\\acer\\documents\\my mini projects\\ml\\betel leaves\\venv\\lib\\site-packages (0.14.1)\n",
      "Requirement already satisfied: typing-extensions in c:\\users\\acer\\documents\\my mini projects\\ml\\betel leaves\\venv\\lib\\site-packages (from torch) (4.5.0)\n",
      "Requirement already satisfied: numpy in c:\\users\\acer\\documents\\my mini projects\\ml\\betel leaves\\venv\\lib\\site-packages (from torchvision) (1.21.6)\n",
      "Requirement already satisfied: requests in c:\\users\\acer\\documents\\my mini projects\\ml\\betel leaves\\venv\\lib\\site-packages (from torchvision) (2.29.0)\n",
      "Requirement already satisfied: pillow!=8.3.*,>=5.3.0 in c:\\users\\acer\\documents\\my mini projects\\ml\\betel leaves\\venv\\lib\\site-packages (from torchvision) (9.5.0)\n",
      "Requirement already satisfied: charset-normalizer<4,>=2 in c:\\users\\acer\\documents\\my mini projects\\ml\\betel leaves\\venv\\lib\\site-packages (from requests->torchvision) (3.1.0)\n",
      "Requirement already satisfied: idna<4,>=2.5 in c:\\users\\acer\\documents\\my mini projects\\ml\\betel leaves\\venv\\lib\\site-packages (from requests->torchvision) (3.4)\n",
      "Requirement already satisfied: urllib3<1.27,>=1.21.1 in c:\\users\\acer\\documents\\my mini projects\\ml\\betel leaves\\venv\\lib\\site-packages (from requests->torchvision) (1.26.15)\n",
      "Requirement already satisfied: certifi>=2017.4.17 in c:\\users\\acer\\documents\\my mini projects\\ml\\betel leaves\\venv\\lib\\site-packages (from requests->torchvision) (2022.12.7)\n",
      "Requirement already satisfied: opencv-python in c:\\users\\acer\\documents\\my mini projects\\ml\\betel leaves\\venv\\lib\\site-packages (4.7.0.72)\n",
      "Requirement already satisfied: albumentations in c:\\users\\acer\\documents\\my mini projects\\ml\\betel leaves\\venv\\lib\\site-packages (1.3.0)\n",
      "Requirement already satisfied: numpy>=1.17.0 in c:\\users\\acer\\documents\\my mini projects\\ml\\betel leaves\\venv\\lib\\site-packages (from opencv-python) (1.21.6)\n",
      "Requirement already satisfied: scipy in c:\\users\\acer\\documents\\my mini projects\\ml\\betel leaves\\venv\\lib\\site-packages (from albumentations) (1.4.1)\n",
      "Requirement already satisfied: scikit-image>=0.16.1 in c:\\users\\acer\\documents\\my mini projects\\ml\\betel leaves\\venv\\lib\\site-packages (from albumentations) (0.19.3)\n",
      "Requirement already satisfied: PyYAML in c:\\users\\acer\\documents\\my mini projects\\ml\\betel leaves\\venv\\lib\\site-packages (from albumentations) (6.0)\n",
      "Requirement already satisfied: qudida>=0.0.4 in c:\\users\\acer\\documents\\my mini projects\\ml\\betel leaves\\venv\\lib\\site-packages (from albumentations) (0.0.4)\n",
      "Requirement already satisfied: opencv-python-headless>=4.1.1 in c:\\users\\acer\\documents\\my mini projects\\ml\\betel leaves\\venv\\lib\\site-packages (from albumentations) (4.7.0.72)\n",
      "Requirement already satisfied: scikit-learn>=0.19.1 in c:\\users\\acer\\documents\\my mini projects\\ml\\betel leaves\\venv\\lib\\site-packages (from qudida>=0.0.4->albumentations) (1.0.2)\n",
      "Requirement already satisfied: typing-extensions in c:\\users\\acer\\documents\\my mini projects\\ml\\betel leaves\\venv\\lib\\site-packages (from qudida>=0.0.4->albumentations) (4.5.0)\n",
      "Requirement already satisfied: networkx>=2.2 in c:\\users\\acer\\documents\\my mini projects\\ml\\betel leaves\\venv\\lib\\site-packages (from scikit-image>=0.16.1->albumentations) (2.6.3)\n",
      "Requirement already satisfied: pillow!=7.1.0,!=7.1.1,!=8.3.0,>=6.1.0 in c:\\users\\acer\\documents\\my mini projects\\ml\\betel leaves\\venv\\lib\\site-packages (from scikit-image>=0.16.1->albumentations) (9.5.0)\n",
      "Requirement already satisfied: imageio>=2.4.1 in c:\\users\\acer\\documents\\my mini projects\\ml\\betel leaves\\venv\\lib\\site-packages (from scikit-image>=0.16.1->albumentations) (2.28.0)\n",
      "Requirement already satisfied: tifffile>=2019.7.26 in c:\\users\\acer\\documents\\my mini projects\\ml\\betel leaves\\venv\\lib\\site-packages (from scikit-image>=0.16.1->albumentations) (2021.11.2)\n",
      "Requirement already satisfied: PyWavelets>=1.1.1 in c:\\users\\acer\\documents\\my mini projects\\ml\\betel leaves\\venv\\lib\\site-packages (from scikit-image>=0.16.1->albumentations) (1.3.0)\n",
      "Requirement already satisfied: packaging>=20.0 in c:\\users\\acer\\documents\\my mini projects\\ml\\betel leaves\\venv\\lib\\site-packages (from scikit-image>=0.16.1->albumentations) (23.1)\n",
      "Requirement already satisfied: joblib>=0.11 in c:\\users\\acer\\documents\\my mini projects\\ml\\betel leaves\\venv\\lib\\site-packages (from scikit-learn>=0.19.1->qudida>=0.0.4->albumentations) (1.2.0)\n",
      "Requirement already satisfied: threadpoolctl>=2.0.0 in c:\\users\\acer\\documents\\my mini projects\\ml\\betel leaves\\venv\\lib\\site-packages (from scikit-learn>=0.19.1->qudida>=0.0.4->albumentations) (3.1.0)\n"
     ]
    },
    {
     "name": "stderr",
     "output_type": "stream",
     "text": [
      "WARNING: Ignoring invalid distribution -pencv-python (c:\\users\\acer\\documents\\my mini projects\\ml\\betel leaves\\venv\\lib\\site-packages)\n",
      "WARNING: Ignoring invalid distribution -pencv-python (c:\\users\\acer\\documents\\my mini projects\\ml\\betel leaves\\venv\\lib\\site-packages)\n",
      "WARNING: Ignoring invalid distribution -pencv-python (c:\\users\\acer\\documents\\my mini projects\\ml\\betel leaves\\venv\\lib\\site-packages)\n",
      "WARNING: Ignoring invalid distribution -pencv-python (c:\\users\\acer\\documents\\my mini projects\\ml\\betel leaves\\venv\\lib\\site-packages)\n",
      "WARNING: Ignoring invalid distribution -pencv-python (c:\\users\\acer\\documents\\my mini projects\\ml\\betel leaves\\venv\\lib\\site-packages)\n",
      "WARNING: Ignoring invalid distribution -pencv-python (c:\\users\\acer\\documents\\my mini projects\\ml\\betel leaves\\venv\\lib\\site-packages)\n",
      "WARNING: Ignoring invalid distribution -pencv-python (c:\\users\\acer\\documents\\my mini projects\\ml\\betel leaves\\venv\\lib\\site-packages)\n",
      "WARNING: Ignoring invalid distribution -pencv-python (c:\\users\\acer\\documents\\my mini projects\\ml\\betel leaves\\venv\\lib\\site-packages)\n"
     ]
    }
   ],
   "source": [
    "! pip install torchvision\n",
    "! pip install torch torchvision --upgrade\n",
    "! pip install opencv-python albumentations"
   ],
   "metadata": {
    "collapsed": false,
    "pycharm": {
     "name": "#%%\n"
    }
   }
  },
  {
   "cell_type": "code",
   "execution_count": 5,
   "outputs": [
    {
     "name": "stdout",
     "output_type": "stream",
     "text": [
      "Setup complete. Using torch 1.13.1+cpu CPU\n"
     ]
    }
   ],
   "source": [
    "import torch\n",
    "\n",
    "from IPython.display import Image, clear_output  # to display images\n",
    "from utils.downloads import attempt_download  # to download models/datasets\n",
    "\n",
    "# clear_output()\n",
    "print('Setup complete. Using torch %s %s' % (torch.__version__, torch.cuda.get_device_properties(0) if torch.cuda.is_available() else 'CPU'))"
   ],
   "metadata": {
    "collapsed": false,
    "pycharm": {
     "name": "#%%\n"
    }
   }
  },
  {
   "cell_type": "code",
   "execution_count": 6,
   "outputs": [
    {
     "name": "stdout",
     "output_type": "stream",
     "text": [
      "C:\\Users\\ACER\\Documents\\My mini Projects\\ML\\Betel Leaves\\pest_detection\n"
     ]
    }
   ],
   "source": [
    "# move back to root dir\n",
    "%cd .."
   ],
   "metadata": {
    "collapsed": false,
    "pycharm": {
     "name": "#%%\n"
    }
   }
  },
  {
   "cell_type": "markdown",
   "source": [
    "## Training and Validation Data Preparation"
   ],
   "metadata": {
    "collapsed": false
   }
  },
  {
   "cell_type": "code",
   "execution_count": 7,
   "outputs": [],
   "source": [
    "import os\n",
    "import shutil\n",
    "import random"
   ],
   "metadata": {
    "collapsed": false,
    "pycharm": {
     "name": "#%%\n"
    }
   }
  },
  {
   "cell_type": "code",
   "execution_count": 8,
   "outputs": [],
   "source": [
    "# Define the path to your dataset\n",
    "PEST_DATASET = '../../datasets/pests'\n",
    "# Define the path to the directory where you want to save the train and test sets\n",
    "TRAIN_DIR = f'{PEST_DATASET}/train'\n",
    "TEST_DIR = f'{PEST_DATASET}/test'\n",
    "CLASSES_FILE_PATH = '../datasets/pests/classes.txt'"
   ],
   "metadata": {
    "collapsed": false,
    "pycharm": {
     "name": "#%%\n"
    }
   }
  },
  {
   "cell_type": "code",
   "execution_count": 9,
   "outputs": [
    {
     "ename": "KeyboardInterrupt",
     "evalue": "",
     "output_type": "error",
     "traceback": [
      "\u001B[1;31m---------------------------------------------------------------------------\u001B[0m",
      "\u001B[1;31mKeyboardInterrupt\u001B[0m                         Traceback (most recent call last)",
      "\u001B[1;32m~\\AppData\\Local\\Temp\\ipykernel_10952\\2663250935.py\u001B[0m in \u001B[0;36m<module>\u001B[1;34m\u001B[0m\n\u001B[0;32m      1\u001B[0m \u001B[1;31m# Create the train and test directories and their subdirectories\u001B[0m\u001B[1;33m\u001B[0m\u001B[1;33m\u001B[0m\u001B[0m\n\u001B[0;32m      2\u001B[0m \u001B[1;32mfor\u001B[0m \u001B[0mdir\u001B[0m \u001B[1;32min\u001B[0m \u001B[1;33m[\u001B[0m\u001B[0mTRAIN_DIR\u001B[0m\u001B[1;33m,\u001B[0m \u001B[0mTEST_DIR\u001B[0m\u001B[1;33m]\u001B[0m\u001B[1;33m:\u001B[0m\u001B[1;33m\u001B[0m\u001B[0m\n\u001B[1;32m----> 3\u001B[1;33m     \u001B[0mos\u001B[0m\u001B[1;33m.\u001B[0m\u001B[0mmakedirs\u001B[0m\u001B[1;33m(\u001B[0m\u001B[0mos\u001B[0m\u001B[1;33m.\u001B[0m\u001B[0mpath\u001B[0m\u001B[1;33m.\u001B[0m\u001B[0mjoin\u001B[0m\u001B[1;33m(\u001B[0m\u001B[0mdir\u001B[0m\u001B[1;33m,\u001B[0m \u001B[1;34m'images'\u001B[0m\u001B[1;33m)\u001B[0m\u001B[1;33m,\u001B[0m \u001B[0mexist_ok\u001B[0m\u001B[1;33m=\u001B[0m\u001B[1;32mTrue\u001B[0m\u001B[1;33m)\u001B[0m\u001B[1;33m\u001B[0m\u001B[0m\n\u001B[0m\u001B[0;32m      4\u001B[0m     \u001B[0mos\u001B[0m\u001B[1;33m.\u001B[0m\u001B[0mmakedirs\u001B[0m\u001B[1;33m(\u001B[0m\u001B[0mos\u001B[0m\u001B[1;33m.\u001B[0m\u001B[0mpath\u001B[0m\u001B[1;33m.\u001B[0m\u001B[0mjoin\u001B[0m\u001B[1;33m(\u001B[0m\u001B[0mdir\u001B[0m\u001B[1;33m,\u001B[0m \u001B[1;34m'labels'\u001B[0m\u001B[1;33m)\u001B[0m\u001B[1;33m,\u001B[0m \u001B[0mexist_ok\u001B[0m\u001B[1;33m=\u001B[0m\u001B[1;32mTrue\u001B[0m\u001B[1;33m)\u001B[0m\u001B[1;33m\u001B[0m\u001B[0m\n\u001B[0;32m      5\u001B[0m \u001B[1;33m\u001B[0m\u001B[0m\n",
      "\u001B[1;32m~\\AppData\\Local\\Programs\\Python\\Python37\\lib\\os.py\u001B[0m in \u001B[0;36mmakedirs\u001B[1;34m(name, mode, exist_ok)\u001B[0m\n\u001B[0;32m    207\u001B[0m     \u001B[1;32mif\u001B[0m \u001B[1;32mnot\u001B[0m \u001B[0mtail\u001B[0m\u001B[1;33m:\u001B[0m\u001B[1;33m\u001B[0m\u001B[0m\n\u001B[0;32m    208\u001B[0m         \u001B[0mhead\u001B[0m\u001B[1;33m,\u001B[0m \u001B[0mtail\u001B[0m \u001B[1;33m=\u001B[0m \u001B[0mpath\u001B[0m\u001B[1;33m.\u001B[0m\u001B[0msplit\u001B[0m\u001B[1;33m(\u001B[0m\u001B[0mhead\u001B[0m\u001B[1;33m)\u001B[0m\u001B[1;33m\u001B[0m\u001B[0m\n\u001B[1;32m--> 209\u001B[1;33m     \u001B[1;32mif\u001B[0m \u001B[0mhead\u001B[0m \u001B[1;32mand\u001B[0m \u001B[0mtail\u001B[0m \u001B[1;32mand\u001B[0m \u001B[1;32mnot\u001B[0m \u001B[0mpath\u001B[0m\u001B[1;33m.\u001B[0m\u001B[0mexists\u001B[0m\u001B[1;33m(\u001B[0m\u001B[0mhead\u001B[0m\u001B[1;33m)\u001B[0m\u001B[1;33m:\u001B[0m\u001B[1;33m\u001B[0m\u001B[0m\n\u001B[0m\u001B[0;32m    210\u001B[0m         \u001B[1;32mtry\u001B[0m\u001B[1;33m:\u001B[0m\u001B[1;33m\u001B[0m\u001B[0m\n\u001B[0;32m    211\u001B[0m             \u001B[0mmakedirs\u001B[0m\u001B[1;33m(\u001B[0m\u001B[0mhead\u001B[0m\u001B[1;33m,\u001B[0m \u001B[0mexist_ok\u001B[0m\u001B[1;33m=\u001B[0m\u001B[0mexist_ok\u001B[0m\u001B[1;33m)\u001B[0m\u001B[1;33m\u001B[0m\u001B[0m\n",
      "\u001B[1;32m~\\AppData\\Local\\Programs\\Python\\Python37\\lib\\genericpath.py\u001B[0m in \u001B[0;36mexists\u001B[1;34m(path)\u001B[0m\n\u001B[0;32m     17\u001B[0m     \u001B[1;34m\"\"\"Test whether a path exists.  Returns False for broken symbolic links\"\"\"\u001B[0m\u001B[1;33m\u001B[0m\u001B[0m\n\u001B[0;32m     18\u001B[0m     \u001B[1;32mtry\u001B[0m\u001B[1;33m:\u001B[0m\u001B[1;33m\u001B[0m\u001B[0m\n\u001B[1;32m---> 19\u001B[1;33m         \u001B[0mos\u001B[0m\u001B[1;33m.\u001B[0m\u001B[0mstat\u001B[0m\u001B[1;33m(\u001B[0m\u001B[0mpath\u001B[0m\u001B[1;33m)\u001B[0m\u001B[1;33m\u001B[0m\u001B[0m\n\u001B[0m\u001B[0;32m     20\u001B[0m     \u001B[1;32mexcept\u001B[0m \u001B[0mOSError\u001B[0m\u001B[1;33m:\u001B[0m\u001B[1;33m\u001B[0m\u001B[0m\n\u001B[0;32m     21\u001B[0m         \u001B[1;32mreturn\u001B[0m \u001B[1;32mFalse\u001B[0m\u001B[1;33m\u001B[0m\u001B[0m\n",
      "\u001B[1;31mKeyboardInterrupt\u001B[0m: "
     ]
    }
   ],
   "source": [
    "# Create the train and test directories and their subdirectories\n",
    "for dir in [TRAIN_DIR, TEST_DIR]:\n",
    "    os.makedirs(os.path.join(dir, 'images'), exist_ok=True)\n",
    "    os.makedirs(os.path.join(dir, 'labels'), exist_ok=True)\n",
    "\n",
    "# Get a list of all the image files in the dataset directory\n",
    "image_files = [f for f in os.listdir(PEST_DATASET) if f.endswith('.jpg')]\n",
    "\n",
    "# Shuffle the list of image files\n",
    "random.shuffle(image_files)\n",
    "\n",
    "# Split the image files into train and test sets\n",
    "split_index = int(len(image_files) * 0.8)\n",
    "train_files = image_files[:split_index]\n",
    "test_files = image_files[split_index:]\n",
    "\n",
    "# Move the train images and annotations to the train directories\n",
    "for file_name in train_files:\n",
    "    image_path = os.path.join(PEST_DATASET, file_name)\n",
    "    label_path = os.path.join(PEST_DATASET, file_name.replace('.jpg', '.txt'))\n",
    "    shutil.copy(image_path, os.path.join(TRAIN_DIR, 'images', file_name))\n",
    "    shutil.copy(label_path, os.path.join(TRAIN_DIR, 'labels', file_name.replace('.jpg', '.txt')))\n",
    "\n",
    "# Move the test images and annotations to the test directories\n",
    "for file_name in test_files:\n",
    "    image_path = os.path.join(PEST_DATASET, file_name)\n",
    "    label_path = os.path.join(PEST_DATASET, file_name.replace('.jpg', '.txt'))\n",
    "    shutil.copy(image_path, os.path.join(TEST_DIR, 'images', file_name))\n",
    "    shutil.copy(label_path, os.path.join(TEST_DIR, 'labels', file_name.replace('.jpg', '.txt')))"
   ],
   "metadata": {
    "collapsed": false,
    "pycharm": {
     "name": "#%%\n"
    }
   }
  },
  {
   "cell_type": "markdown",
   "source": [
    "### Setting up dataset paths for YOLO model"
   ],
   "metadata": {
    "collapsed": false
   }
  },
  {
   "cell_type": "code",
   "execution_count": null,
   "outputs": [],
   "source": [
    "import yaml\n",
    "\n",
    "# Load the YAML file\n",
    "YAML_PATH = '../pest_detection/yolov5/data/coco128.yaml'\n",
    "NEW_YAML_PATH = '../pest_detection/yolov5/data/custom_data.yaml'\n",
    "\n",
    "current_path = os.getcwd()\n",
    "print('Current working dir: ', current_path)\n",
    "\n",
    "with open(YAML_PATH, 'r', encoding='utf-8') as f:\n",
    "    data = yaml.safe_load(f)\n",
    "\n",
    "# Define the mapping between class names and labels\n",
    "with open(CLASSES_FILE_PATH, 'r') as f:\n",
    "    class_names = [line.strip() for line in f]\n",
    "label_map = {i: name for i, name in enumerate(class_names)}\n",
    "\n",
    "# Modify the YAML data\n",
    "if 'train' in data:\n",
    "    data['train'] = 'train'\n",
    "if 'val' in data:\n",
    "    data['val'] = 'test'\n",
    "data['path'] = PEST_DATASET\n",
    "data['names'] = label_map\n",
    "data['nc'] = len(class_names)\n",
    "\n",
    "# Remove the 'download' key and value\n",
    "data.pop('download', None)\n",
    "data.pop('test', None)\n",
    "\n",
    "# Save the modified YAML file\n",
    "with open(NEW_YAML_PATH, 'w') as f:\n",
    "    yaml.dump(data, f, sort_keys=False)"
   ],
   "metadata": {
    "collapsed": false,
    "pycharm": {
     "name": "#%%\n"
    }
   }
  },
  {
   "cell_type": "markdown",
   "source": [
    "## Train YOLOv5 Model\n",
    "\n",
    "  There is an import error due to a mismatch in the version of typing module. In Python 3.7, the OrderedDict is present in the collections module instead of the typing module.\n",
    "\n",
    "You can try the following solution:\n",
    "\n",
    ">Open the file maxvit.py located in `venv\\lib\\site-packages\\torchvision\\models` in a text editor.\n",
    "Change the import statement`from typing import Any, Callable, List, Optional, OrderedDict, Sequence, Tuple` to `from collections import OrderedDict`.\n",
    "Save the file and try running the train.py script again.\n",
    "If the above solution doesn't work, you can try to upgrade the version of PyTorch and torchvision using pip:"
   ],
   "metadata": {
    "collapsed": false,
    "pycharm": {
     "name": "#%% md\n"
    }
   }
  },
  {
   "cell_type": "code",
   "execution_count": null,
   "outputs": [],
   "source": [
    "# %cd yolov5"
   ],
   "metadata": {
    "collapsed": false,
    "pycharm": {
     "name": "#%%\n"
    }
   }
  },
  {
   "cell_type": "code",
   "execution_count": null,
   "outputs": [],
   "source": [
    "# ! python train.py --img 640 --batch 16 --epochs 1 --data custom_data.yaml --cfg models/yolov5s.yaml --weights yolov5s.pt"
   ],
   "metadata": {
    "collapsed": false,
    "pycharm": {
     "name": "#%%\n"
    }
   }
  },
  {
   "cell_type": "code",
   "execution_count": null,
   "outputs": [],
   "source": [
    " # %cd .."
   ],
   "metadata": {
    "collapsed": false,
    "pycharm": {
     "name": "#%%\n"
    }
   }
  },
  {
   "cell_type": "markdown",
   "source": [
    "### Try to Resume Training otherwise Start from Begining"
   ],
   "metadata": {
    "collapsed": false
   }
  },
  {
   "cell_type": "code",
   "execution_count": null,
   "outputs": [],
   "source": [
    "from yolov5.train import run\n",
    "\n",
    "args = {\n",
    "    'img-size': 640,\n",
    "    'batch': 16,\n",
    "    'epochs': 1000,\n",
    "    'data': 'custom_data.yaml',\n",
    "    'cfg': 'yolov5s.yaml',\n",
    "    'weights': 'yolov5s.pt',\n",
    "    'verbose':True\n",
    "}\n",
    "\n",
    "try:\n",
    "    print('\\n\\n===============================================')\n",
    "    print('TRAINING RESUMED....')\n",
    "    print('===============================================')\n",
    "    opt = run(resume=True)\n",
    "except:\n",
    "    print('Failed to Resume Training!!!\\n\\n===============================================')\n",
    "    print('TRAINING STARTED FROM Beginning....')\n",
    "    print('===============================================')\n",
    "    opt = run(**args)"
   ],
   "metadata": {
    "collapsed": false,
    "pycharm": {
     "name": "#%%\n"
    }
   }
  },
  {
   "cell_type": "markdown",
   "source": [
    "### Evaluation"
   ],
   "metadata": {
    "collapsed": false
   }
  },
  {
   "cell_type": "code",
   "execution_count": null,
   "outputs": [],
   "source": [
    "from yolov5.utils.plots import plot_results\n",
    "import glob\n",
    "\n",
    "# get a list of all the experiment folders sorted by creation time\n",
    "exp_folders = sorted(glob.glob('./yolov5/runs/train/exp*/'), key=os.path.getmtime)\n",
    "\n",
    "try:\n",
    "    # get the last experiment folder\n",
    "    last_exp_folder = exp_folders[-1]\n",
    "\n",
    "    # get the path to the result.csv file in the last experiment folder\n",
    "    result_csv_path = os.path.join(last_exp_folder, 'results.csv')\n",
    "    result_png_path = os.path.join(last_exp_folder, 'results.png')\n",
    "\n",
    "    plot_results(result_csv_path)  # plot 'results.csv' as 'results.png'\n",
    "except AssertionError:\n",
    "    print('failed to open from last exp_folder. Opening the previous...')\n",
    "    # get the last experiment folder\n",
    "    last_exp_folder = exp_folders[-2]\n",
    "\n",
    "    # get the path to the result.csv file in the last experiment folder\n",
    "    result_csv_path = os.path.join(last_exp_folder, 'results.csv')\n",
    "    result_png_path = os.path.join(last_exp_folder, 'results.png')\n",
    "\n",
    "    plot_results(result_csv_path)  # plot 'results.csv' as 'results.png'"
   ],
   "metadata": {
    "collapsed": false,
    "pycharm": {
     "name": "#%%\n"
    }
   }
  },
  {
   "cell_type": "code",
   "execution_count": null,
   "outputs": [],
   "source": [
    "import pandas as pd\n",
    "\n",
    "results_df = pd.read_csv(result_csv_path, index_col=False)\n",
    "print(f'YOLOv5 model has trained for {results_df.shape[0]} times.')\n",
    "\n",
    "pd.set_option('display.max_columns', None)  # to show all columns\n",
    "results_df.head(-5)"
   ],
   "metadata": {
    "collapsed": false,
    "pycharm": {
     "name": "#%%\n"
    }
   }
  },
  {
   "cell_type": "code",
   "execution_count": null,
   "outputs": [],
   "source": [
    "from IPython.display import Image\n",
    "Image(filename=result_png_path)"
   ],
   "metadata": {
    "collapsed": false,
    "pycharm": {
     "name": "#%%\n"
    }
   }
  },
  {
   "cell_type": "markdown",
   "source": [
    "# Inference"
   ],
   "metadata": {
    "collapsed": false,
    "pycharm": {
     "name": "#%% md\n"
    }
   }
  },
  {
   "cell_type": "code",
   "execution_count": 2,
   "outputs": [
    {
     "name": "stderr",
     "output_type": "stream",
     "text": [
      "YOLOv5  2023-5-12 Python-3.7.0 torch-1.13.1+cpu CPU\n",
      "\n",
      "Fusing layers... \n",
      "Model summary: 157 layers, 7015519 parameters, 0 gradients, 15.8 GFLOPs\n",
      "image 1/1 C:\\Users\\ACER\\Documents\\My mini Projects\\ML\\Betel Leaves\\datasets\\pests\\test\\images\\Whitefly Infestation.jpg: 576x640 12 whiteflys, 956.0ms\n",
      "Speed: 1.0ms pre-process, 956.0ms inference, 2.0ms NMS per image at shape (1, 3, 640, 640)\n",
      "Results saved to \u001B[1mdetections\\exp\u001B[0m\n"
     ]
    },
    {
     "name": "stdout",
     "output_type": "stream",
     "text": [
      "{'whitefly': {'number_of_detections': 12, 'average_confidence': 0.7281458973884583}}\n"
     ]
    }
   ],
   "source": [
    "from yolov5.detect import run as detect\n",
    "\n",
    "\n",
    "\n",
    "detect_params = {\n",
    "    'weights': './yolov5/runs/train/exp8/weights/last.pt',\n",
    "    'source': '../datasets/pests/test/images/Whitefly Infestation.jpg',\n",
    "    'augment': True,\n",
    "    'project': './detections'\n",
    "}\n",
    "\n",
    "\n",
    "\n",
    "# Run YOLOv5 detection\n",
    "\n",
    "results = detect(**detect_params)\n",
    "\n",
    "\n",
    "print(results)"
   ],
   "metadata": {
    "collapsed": false,
    "pycharm": {
     "name": "#%%\n"
    }
   }
  }
 ],
 "metadata": {
  "kernelspec": {
   "display_name": "Python 3",
   "language": "python",
   "name": "python3"
  },
  "language_info": {
   "codemirror_mode": {
    "name": "ipython",
    "version": 2
   },
   "file_extension": ".py",
   "mimetype": "text/x-python",
   "name": "python",
   "nbconvert_exporter": "python",
   "pygments_lexer": "ipython2",
   "version": "2.7.6"
  }
 },
 "nbformat": 4,
 "nbformat_minor": 0
}